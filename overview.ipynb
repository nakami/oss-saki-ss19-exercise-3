{
 "cells": [
  {
   "cell_type": "markdown",
   "metadata": {},
   "source": [
    "# Exercise 3 - Overview\n"
   ]
  },
  {
   "cell_type": "markdown",
   "metadata": {},
   "source": [
    "- Markov Decision Process (MDP)\n",
    "    - 4-tuple ($S$, $A$, $P_{a}$, $R_{a}$)\n",
    "        - $S$: finite set of states $S = \\{s_1, s_2 ,..., s_n\\}$\n",
    "        - $A$: finite set of actions $A = \\{a_1, a_2,..., a_n\\}$\n",
    "        - $P_a(s, s')$: transition probability matrix (probabilities to lead from state $s$ into another state $s'$ within the action $a$\n",
    "        - $R_a(s, s')$: reward matrix (receiving a defined reward after action $a$ in state $s$ to reach state $s'$\n",
    "\n",
    "\n",
    "- Size of warehouse is either 2x2 or 3x2\n",
    "- Separate start/stop position outside the storage space\n",
    "- Robots can move to adjacent fields (but not diagonally)\n",
    "- First position the robot can move into is always (1, 1)\n",
    "- Three types of items, identified by color (white, blue, red)\n"
   ]
  },
  {
   "cell_type": "markdown",
   "metadata": {},
   "source": [
    "## Data Exploration"
   ]
  },
  {
   "cell_type": "code",
   "execution_count": 1,
   "metadata": {},
   "outputs": [],
   "source": [
    "import pandas as pd\n",
    "import numpy as np"
   ]
  },
  {
   "cell_type": "code",
   "execution_count": 2,
   "metadata": {},
   "outputs": [],
   "source": [
    "# 2x2\n",
    "data_dir_2x2 = 'data_2x2'\n",
    "file_train_2x2 = 'warehousetraining2x2.txt'\n",
    "file_order_2x2 = 'warehouseorder2x2.txt'\n",
    "csv_data_file_train = f'{data_dir_2x2}\\\\{file_train_2x2}'\n",
    "csv_data_file_order = f'{data_dir_2x2}\\\\{file_order_2x2}'\n",
    "df_2x2_train = pd.read_csv(csv_data_file_train, sep='\\t', header=None, names=[\"operation_type\", \"color\"])\n",
    "df_2x2_train['merged'] = df_2x2_train['operation_type'] + ' ' + df_2x2_train['color']\n",
    "df_2x2_order = pd.read_csv(csv_data_file_order, sep='\\t', header=None, names=[\"operation_type\", \"color\"])\n",
    "df_2x2_order['merged'] = df_2x2_order['operation_type'] + ' ' + df_2x2_order['color']"
   ]
  },
  {
   "cell_type": "code",
   "execution_count": 3,
   "metadata": {},
   "outputs": [],
   "source": [
    "# 3x2\n",
    "data_dir_3x2 = 'data_3x2'\n",
    "file_train_3x2 = 'warehousetraining3x2.txt'\n",
    "file_order_3x2 = 'warehouseorder3x2.txt'\n",
    "csv_data_file_train = f'{data_dir_3x2}\\\\{file_train_3x2}'\n",
    "csv_data_file_order = f'{data_dir_3x2}\\\\{file_order_3x2}'\n",
    "df_3x2_train = pd.read_csv(csv_data_file_train, sep='\\t', header=None, names=[\"operation_type\", \"color\"])\n",
    "df_3x2_train['merged'] = df_3x2_train['operation_type'] + ' ' + df_3x2_train['color']\n",
    "df_3x2_order = pd.read_csv(csv_data_file_order, sep='\\t', header=None, names=[\"operation_type\", \"color\"])\n",
    "df_3x2_order['merged'] = df_3x2_order['operation_type'] + ' ' + df_3x2_order['color']"
   ]
  },
  {
   "cell_type": "markdown",
   "metadata": {},
   "source": [
    "### 2x2 distributions"
   ]
  },
  {
   "cell_type": "code",
   "execution_count": 4,
   "metadata": {},
   "outputs": [
    {
     "name": "stdout",
     "output_type": "stream",
     "text": [
      "distribution for warehousetraining2x2.txt:\n",
      "restore red      2064\n",
      "store red        2064\n",
      "store white      1030\n",
      "restore white    1029\n",
      "store blue        995\n",
      "restore blue      995\n",
      "Name: merged, dtype: int64\n",
      "restore red      0.252415\n",
      "store red        0.252415\n",
      "store white      0.125963\n",
      "restore white    0.125841\n",
      "store blue       0.121683\n",
      "restore blue     0.121683\n",
      "Name: merged, dtype: float64\n",
      "\n",
      "distribution for warehouseorder2x2.txt:\n",
      "store red        16\n",
      "restore red      15\n",
      "store white      10\n",
      "restore blue      8\n",
      "restore white     8\n",
      "store blue        8\n",
      "Name: merged, dtype: int64\n",
      "store red        0.246154\n",
      "restore red      0.230769\n",
      "store white      0.153846\n",
      "restore blue     0.123077\n",
      "restore white    0.123077\n",
      "store blue       0.123077\n",
      "Name: merged, dtype: float64\n",
      "\n"
     ]
    }
   ],
   "source": [
    "print(f'distribution for {file_train_2x2}:')\n",
    "val_counts_2x2_train = df_2x2_train['merged'].value_counts(normalize=False)\n",
    "print(val_counts_2x2_train)\n",
    "val_counts_2x2_train_norm = df_2x2_train['merged'].value_counts(normalize=True)\n",
    "#np.save(f'{data_dir_2x2}\\\\train_dist_norm.npy', val_counts_2x2_train_norm)\n",
    "print(val_counts_2x2_train_norm)\n",
    "print()\n",
    "print(f'distribution for {file_order_2x2}:')\n",
    "val_counts_2x2_order = df_2x2_order['merged'].value_counts(normalize=False)\n",
    "print(val_counts_2x2_order)\n",
    "val_counts_2x2_order_norm = df_2x2_order['merged'].value_counts(normalize=True)\n",
    "#np.save(f'{data_dir_2x2}\\\\order_dist_norm.npy', val_counts_2x2_train_norm)\n",
    "print(val_counts_2x2_order_norm)\n",
    "print()\n"
   ]
  },
  {
   "cell_type": "markdown",
   "metadata": {},
   "source": [
    "### 3x2 distributions"
   ]
  },
  {
   "cell_type": "code",
   "execution_count": 5,
   "metadata": {},
   "outputs": [
    {
     "name": "stdout",
     "output_type": "stream",
     "text": [
      "distribution for warehousetraining3x2.txt:\n",
      "restore red      2989\n",
      "store red        2989\n",
      "restore white    1548\n",
      "store white      1548\n",
      "restore blue     1517\n",
      "store blue       1517\n",
      "Name: merged, dtype: int64\n",
      "restore red      0.246862\n",
      "store red        0.246862\n",
      "restore white    0.127849\n",
      "store white      0.127849\n",
      "restore blue     0.125289\n",
      "store blue       0.125289\n",
      "Name: merged, dtype: float64\n",
      "\n",
      "distribution for warehouseorder3x2.txt:\n",
      "store white      13\n",
      "restore white    13\n",
      "store red        11\n",
      "restore red      11\n",
      "restore blue      6\n",
      "store blue        6\n",
      "Name: merged, dtype: int64\n",
      "store white      0.216667\n",
      "restore white    0.216667\n",
      "store red        0.183333\n",
      "restore red      0.183333\n",
      "restore blue     0.100000\n",
      "store blue       0.100000\n",
      "Name: merged, dtype: float64\n",
      "\n"
     ]
    }
   ],
   "source": [
    "print(f'distribution for {file_train_3x2}:')\n",
    "val_counts_3x2_train = df_3x2_train['merged'].value_counts(normalize=False)\n",
    "print(val_counts_3x2_train)\n",
    "val_counts_3x2_train_norm = df_3x2_train['merged'].value_counts(normalize=True)\n",
    "np.save(f'{data_dir_3x2}\\\\train_dist_norm.npy', val_counts_3x2_train_norm)\n",
    "print(val_counts_3x2_train_norm)\n",
    "print()\n",
    "print(f'distribution for {file_order_3x2}:')\n",
    "val_counts_3x2_order = df_3x2_order['merged'].value_counts(normalize=False)\n",
    "print(val_counts_3x2_order)\n",
    "val_counts_3x2_order_norm = df_3x2_order['merged'].value_counts(normalize=True)\n",
    "np.save(f'{data_dir_3x2}\\\\order_dist_norm.npy', val_counts_3x2_order_norm)\n",
    "print(val_counts_3x2_order_norm)\n",
    "print()"
   ]
  },
  {
   "cell_type": "markdown",
   "metadata": {},
   "source": [
    "I am interested in the normalized distribution. Let's round the numbers..."
   ]
  },
  {
   "cell_type": "code",
   "execution_count": 6,
   "metadata": {},
   "outputs": [
    {
     "name": "stdout",
     "output_type": "stream",
     "text": [
      "distribution for warehousetraining2x2.txt:\n",
      "restore red      0.2524\n",
      "store red        0.2524\n",
      "store white      0.1260\n",
      "restore white    0.1258\n",
      "store blue       0.1217\n",
      "restore blue     0.1217\n",
      "Name: merged, dtype: float64\n",
      "Does it still sum up to 1.0? True\n",
      "\n",
      "distribution for warehousetraining3x2.txt:\n",
      "restore red      0.2469\n",
      "store red        0.2469\n",
      "restore white    0.1278\n",
      "store white      0.1278\n",
      "restore blue     0.1253\n",
      "store blue       0.1253\n",
      "Name: merged, dtype: float64\n",
      "Does it still sum up to 1.0? True\n",
      "\n"
     ]
    }
   ],
   "source": [
    "# 2x2\n",
    "print(f'distribution for {file_train_2x2}:')\n",
    "print(val_counts_2x2_train_norm.round(decimals=4))\n",
    "print('Does it still sum up to 1.0? ', end='')\n",
    "print(1.0 == np.sum(val_counts_2x2_train_norm.round(decimals=4)))\n",
    "print()\n",
    "\n",
    "# 3x2\n",
    "print(f'distribution for {file_train_3x2}:')\n",
    "print(val_counts_3x2_train_norm.round(decimals=4))\n",
    "print('Does it still sum up to 1.0? ', end='')\n",
    "print(1.0 == np.sum(val_counts_3x2_train_norm.round(decimals=4)))\n",
    "print()"
   ]
  },
  {
   "cell_type": "markdown",
   "metadata": {},
   "source": [
    "## Further investigations\n",
    "\n",
    "- Can we determine for how long an item was stored?\n",
    "    - No, not necessarily. If two or items are stored at the same time, and a 'restore'-action is done, it is unknown which of these stored items was restored.\n",
    "- 3x2 states: $4^6 * 6 = 24576$ (6 fields being empty or filled with white, blue (4) and 6 different actions)\n",
    "- 2x2 states: $4^4 * 6 = 1536$ (6 fields being empty or filled with white, blue (4) and 6 different actions)\n",
    "\n",
    "## MDP Toolbox usage\n",
    "- Create a transition probability matrix (TPM) per action\n",
    "    - 2x2: six matrizes à $1536x1536$ (states x states times per TPM, one per action (6))\n",
    "    - 3x2: six matrizes à $24576x245766$ (states x states times per TPM, one per action (6))\n",
    "- Group the TPMs\n",
    "```\n",
    "tpms = np.array([tpm0, tpm1, tpm2, tpm3, tpm4, tpm5])\n",
    "```\n",
    "\n",
    "- Create a reward matrix (basically one vector per action)\n",
    "    - 2x2: one matrix à $6x1536$  (actions x states)\n",
    "    - 3x2: one matrix à $6x24576$  (actions x states)\n",
    "- Use a discount factor\n",
    "- Create PolicyIteration and ValueIteration and let it run\n",
    "\n",
    "```python\n",
    "# Definition of the mdp with discount factor, maximal iterations, the tranisition probability matrix and the reward matrix\n",
    "mdpresultPolicy = \\\n",
    "    mdptoolbox.mdp.PolicyIteration(tpms, rewardmatrix, 0.3, max_iter=100)\n",
    "mdpresultValue = \\\n",
    "    mdptoolbox.mdp.ValueIteration(tpms, rewardmatrix, 0.3, max_iter=100)\n",
    "\n",
    "# Run the MDP\n",
    "mdpresultPolicy.run()\n",
    "mdpresultValue.run()\n",
    "```\n",
    "\n",
    "- `PolicyIteration` and `ValueIteration` and both contain a `policy`- and a `V`-vector and the number of iterations it took\n",
    "   - `PolicyIteration` and `ValueIteration` are both algorithms for solving MDP (see https://en.m.wikipedia.org/wiki/Markov_decision_process#Algorithms)\n",
    "   - the algorithm used will require more iterations and therefore time to solve the MDP the closer we set the discount factor to 1\n",
    "   - The `policy` is what we'll use to instantiate an AI to run in the warehouse\n",
    "\n",
    "```python\n",
    "print('PolicyIteration:')\n",
    "print(mdpresultPolicy.policy)\n",
    "print(mdpresultPolicy.V)\n",
    "print(mdpresultPolicy.iter)\n",
    "\n",
    "print('ValueIteration:')\n",
    "print(mdpresultValue.policy)\n",
    "print(mdpresultValue.V)\n",
    "print(mdpresultValue.iter)\n",
    "```\n",
    "\n",
    "```\n",
    "PolicyIteration:\n",
    "(0, 0, 0, 0)\n",
    "(0.4740921452567589, 1.4285714285714286, 2.7443609022556394, 11.338985762278037)\n",
    "1\n",
    "ValueIteration:\n",
    "(0, 0, 0, 0)\n",
    "(0.4622244, 1.417, 2.728424, 11.321488)\n",
    "4\n",
    "```\n",
    "   "
   ]
  }
 ],
 "metadata": {
  "kernelspec": {
   "display_name": "Python 3",
   "language": "python",
   "name": "python3"
  },
  "language_info": {
   "codemirror_mode": {
    "name": "ipython",
    "version": 3
   },
   "file_extension": ".py",
   "mimetype": "text/x-python",
   "name": "python",
   "nbconvert_exporter": "python",
   "pygments_lexer": "ipython3",
   "version": "3.7.3"
  }
 },
 "nbformat": 4,
 "nbformat_minor": 2
}
